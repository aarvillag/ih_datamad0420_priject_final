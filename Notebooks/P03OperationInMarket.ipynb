{
 "cells": [
  {
   "cell_type": "code",
   "execution_count": 1,
   "metadata": {},
   "outputs": [],
   "source": [
    "# We are going to emulate that we operate in the future market with 1 contract long and 1 contract short but in a independent way\n",
    "\n",
    "# we need to know\n",
    "#                    1. Contract = ES\n",
    "#                    2. Timetable = in 09:00   out 18:00\n",
    "#                    3. Range-Trail = calculated in previous step\n",
    "#                    4. Operation with order Stop Trail"
   ]
  },
  {
   "cell_type": "code",
   "execution_count": 1,
   "metadata": {},
   "outputs": [
    {
     "name": "stdout",
     "output_type": "stream",
     "text": [
      "Importing Jupyter notebook from P02RangetrialEstimation.ipynb\n"
     ]
    }
   ],
   "source": [
    "import pandas as pd\n",
    "import numpy as np\n",
    "import datetime \n",
    "from datetime import date\n",
    "import nbimporter                                #library to import functions defined in other jupyter notebook but use here \n",
    "from P02RangetrialEstimation import int2date, locate_1st_day, locate_lst_day"
   ]
  },
  {
   "cell_type": "code",
   "execution_count": 3,
   "metadata": {},
   "outputs": [
    {
     "data": {
      "text/plain": [
       "datetime.date(2020, 10, 5)"
      ]
     },
     "execution_count": 3,
     "metadata": {},
     "output_type": "execute_result"
    }
   ],
   "source": [
    "int2date(20201005)"
   ]
  },
  {
   "cell_type": "code",
   "execution_count": 2,
   "metadata": {},
   "outputs": [],
   "source": [
    "# import the dataframe\n",
    "\n",
    "df_es_00=pd.read_csv('../Data/ES_00.csv',dtype={'date': str,'time': str,'open': float ,'max' : float ,'min' : float ,'close' : float ,'volume' : int,\n",
    "                                              'datetime_US' : str, 'datetime_EU' : str, }, parse_dates=['datetime_US', 'datetime_EU'])\n",
    "df_es_02=pd.read_csv('../Data/ES_02.csv',dtype={'date': str,'timetable': str,'max' : float ,'min' : float ,'range' : float ,'range-trail' : float,\n",
    "                                              'range-avg' : float}, parse_dates=['date'])"
   ]
  },
  {
   "cell_type": "code",
   "execution_count": 3,
   "metadata": {},
   "outputs": [
    {
     "name": "stdout",
     "output_type": "stream",
     "text": [
      "<class 'pandas.core.frame.DataFrame'>\n",
      "RangeIndex: 241774 entries, 0 to 241773\n",
      "Data columns (total 9 columns):\n",
      " #   Column       Non-Null Count   Dtype         \n",
      "---  ------       --------------   -----         \n",
      " 0   date         241774 non-null  object        \n",
      " 1   time         241774 non-null  object        \n",
      " 2   open         241774 non-null  float64       \n",
      " 3   max          241774 non-null  float64       \n",
      " 4   min          241774 non-null  float64       \n",
      " 5   close        241774 non-null  float64       \n",
      " 6   volume       241774 non-null  int64         \n",
      " 7   datetime_US  241774 non-null  datetime64[ns]\n",
      " 8   datetime_EU  241774 non-null  datetime64[ns]\n",
      "dtypes: datetime64[ns](2), float64(4), int64(1), object(2)\n",
      "memory usage: 16.6+ MB\n"
     ]
    }
   ],
   "source": [
    "df_es_00.info()"
   ]
  },
  {
   "cell_type": "code",
   "execution_count": 11,
   "metadata": {},
   "outputs": [
    {
     "data": {
      "text/plain": [
       "20140103"
      ]
     },
     "execution_count": 11,
     "metadata": {},
     "output_type": "execute_result"
    }
   ],
   "source": [
    "df_es_02['date'][df_es_02[df_es_02['range-trail']!=0].index[0]].year*10000+ \\\n",
    "df_es_02['date'][df_es_02[df_es_02['range-trail']!=0].index[0]].month*100+ \\\n",
    "df_es_02['date'][df_es_02[df_es_02['range-trail']!=0].index[0]].day"
   ]
  },
  {
   "cell_type": "code",
   "execution_count": 5,
   "metadata": {},
   "outputs": [
    {
     "data": {
      "text/html": [
       "<div>\n",
       "<style scoped>\n",
       "    .dataframe tbody tr th:only-of-type {\n",
       "        vertical-align: middle;\n",
       "    }\n",
       "\n",
       "    .dataframe tbody tr th {\n",
       "        vertical-align: top;\n",
       "    }\n",
       "\n",
       "    .dataframe thead th {\n",
       "        text-align: right;\n",
       "    }\n",
       "</style>\n",
       "<table border=\"1\" class=\"dataframe\">\n",
       "  <thead>\n",
       "    <tr style=\"text-align: right;\">\n",
       "      <th></th>\n",
       "      <th>date</th>\n",
       "      <th>timetable</th>\n",
       "      <th>max</th>\n",
       "      <th>min</th>\n",
       "      <th>range</th>\n",
       "      <th>range-trail</th>\n",
       "      <th>range-avg</th>\n",
       "    </tr>\n",
       "  </thead>\n",
       "  <tbody>\n",
       "    <tr>\n",
       "      <th>0</th>\n",
       "      <td>2009-09-28</td>\n",
       "      <td>09:00-18:30</td>\n",
       "      <td>1060.25</td>\n",
       "      <td>1037.00</td>\n",
       "      <td>23.25</td>\n",
       "      <td>0.0</td>\n",
       "      <td>0.000000</td>\n",
       "    </tr>\n",
       "    <tr>\n",
       "      <th>1</th>\n",
       "      <td>2009-09-29</td>\n",
       "      <td>09:00-18:30</td>\n",
       "      <td>1065.75</td>\n",
       "      <td>1053.25</td>\n",
       "      <td>12.50</td>\n",
       "      <td>0.0</td>\n",
       "      <td>0.000000</td>\n",
       "    </tr>\n",
       "    <tr>\n",
       "      <th>2</th>\n",
       "      <td>2009-09-30</td>\n",
       "      <td>09:00-18:30</td>\n",
       "      <td>1063.25</td>\n",
       "      <td>1041.50</td>\n",
       "      <td>21.75</td>\n",
       "      <td>0.0</td>\n",
       "      <td>0.000000</td>\n",
       "    </tr>\n",
       "    <tr>\n",
       "      <th>3</th>\n",
       "      <td>2009-10-01</td>\n",
       "      <td>09:00-18:30</td>\n",
       "      <td>1055.25</td>\n",
       "      <td>1031.50</td>\n",
       "      <td>23.75</td>\n",
       "      <td>0.0</td>\n",
       "      <td>0.000000</td>\n",
       "    </tr>\n",
       "    <tr>\n",
       "      <th>4</th>\n",
       "      <td>2009-10-02</td>\n",
       "      <td>09:00-18:30</td>\n",
       "      <td>1027.00</td>\n",
       "      <td>1012.00</td>\n",
       "      <td>15.00</td>\n",
       "      <td>0.0</td>\n",
       "      <td>0.000000</td>\n",
       "    </tr>\n",
       "    <tr>\n",
       "      <th>...</th>\n",
       "      <td>...</td>\n",
       "      <td>...</td>\n",
       "      <td>...</td>\n",
       "      <td>...</td>\n",
       "      <td>...</td>\n",
       "      <td>...</td>\n",
       "      <td>...</td>\n",
       "    </tr>\n",
       "    <tr>\n",
       "      <th>2554</th>\n",
       "      <td>2019-09-02</td>\n",
       "      <td>09:00-18:30</td>\n",
       "      <td>2926.50</td>\n",
       "      <td>2889.00</td>\n",
       "      <td>37.50</td>\n",
       "      <td>13.0</td>\n",
       "      <td>19.223518</td>\n",
       "    </tr>\n",
       "    <tr>\n",
       "      <th>2555</th>\n",
       "      <td>2019-09-03</td>\n",
       "      <td>09:00-18:30</td>\n",
       "      <td>2914.50</td>\n",
       "      <td>2891.00</td>\n",
       "      <td>23.50</td>\n",
       "      <td>13.0</td>\n",
       "      <td>19.223518</td>\n",
       "    </tr>\n",
       "    <tr>\n",
       "      <th>2556</th>\n",
       "      <td>2019-09-04</td>\n",
       "      <td>09:00-18:30</td>\n",
       "      <td>2936.25</td>\n",
       "      <td>2921.50</td>\n",
       "      <td>14.75</td>\n",
       "      <td>13.0</td>\n",
       "      <td>19.223518</td>\n",
       "    </tr>\n",
       "    <tr>\n",
       "      <th>2557</th>\n",
       "      <td>2019-09-05</td>\n",
       "      <td>09:00-18:30</td>\n",
       "      <td>2986.50</td>\n",
       "      <td>2950.50</td>\n",
       "      <td>36.00</td>\n",
       "      <td>13.0</td>\n",
       "      <td>19.223518</td>\n",
       "    </tr>\n",
       "    <tr>\n",
       "      <th>2558</th>\n",
       "      <td>2019-09-06</td>\n",
       "      <td>09:00-18:30</td>\n",
       "      <td>2988.25</td>\n",
       "      <td>2972.25</td>\n",
       "      <td>16.00</td>\n",
       "      <td>13.0</td>\n",
       "      <td>19.223518</td>\n",
       "    </tr>\n",
       "  </tbody>\n",
       "</table>\n",
       "<p>2559 rows × 7 columns</p>\n",
       "</div>"
      ],
      "text/plain": [
       "           date    timetable      max      min  range  range-trail  range-avg\n",
       "0    2009-09-28  09:00-18:30  1060.25  1037.00  23.25          0.0   0.000000\n",
       "1    2009-09-29  09:00-18:30  1065.75  1053.25  12.50          0.0   0.000000\n",
       "2    2009-09-30  09:00-18:30  1063.25  1041.50  21.75          0.0   0.000000\n",
       "3    2009-10-01  09:00-18:30  1055.25  1031.50  23.75          0.0   0.000000\n",
       "4    2009-10-02  09:00-18:30  1027.00  1012.00  15.00          0.0   0.000000\n",
       "...         ...          ...      ...      ...    ...          ...        ...\n",
       "2554 2019-09-02  09:00-18:30  2926.50  2889.00  37.50         13.0  19.223518\n",
       "2555 2019-09-03  09:00-18:30  2914.50  2891.00  23.50         13.0  19.223518\n",
       "2556 2019-09-04  09:00-18:30  2936.25  2921.50  14.75         13.0  19.223518\n",
       "2557 2019-09-05  09:00-18:30  2986.50  2950.50  36.00         13.0  19.223518\n",
       "2558 2019-09-06  09:00-18:30  2988.25  2972.25  16.00         13.0  19.223518\n",
       "\n",
       "[2559 rows x 7 columns]"
      ]
     },
     "execution_count": 5,
     "metadata": {},
     "output_type": "execute_result"
    }
   ],
   "source": [
    "df_es_02"
   ]
  },
  {
   "cell_type": "code",
   "execution_count": 12,
   "metadata": {},
   "outputs": [],
   "source": [
    "def market_operation (df_int, df_day, timetable_ini, timetable_end):\n",
    "    \"\"\"\n",
    "    This function complete a dataframe df_day with open, close-long, close-short for a daily base in a especific timetable\n",
    "    You can realise that we are going to operate long and short.\n",
    "    On the other hand we will use the order STOP-TRAIL\n",
    "    -Parameters\n",
    "    ----------\n",
    "    df_int : dataframe with original data (intraday movements of a future contract) ['date', 'time', 'open', 'max', 'min', 'close', 'volume']\n",
    "    df_day : new dataframe to create with columns ['date', 'timetable', 'max', 'min', 'range', range-avg, range-trail]. We will add the columns\n",
    "             ['open', 'close-long', 'close-short', 'close', long-rst, short-rst, long-acc, short-acc]\n",
    "    timetable_ini : time the operation start everyday. Example='09:00'\n",
    "    timetable_end : time the operation finish everyday. Example='18:00' \n",
    "\n",
    "    -Returns\n",
    "    -------\n",
    "    nothing\n",
    "    The function fill the dataframe df_day with daily ['open', 'long-close', 'short-close', 'close', 'long-rst', 'short-rst', 'long-acc', 'short-acc']\n",
    "    \"\"\"\n",
    "    \n",
    "    pd.options.mode.chained_assignment = None                     # default='warn' This is to avoid warnings of chained-assignment\n",
    "    \n",
    "    # Create new columns in the dataframe\n",
    "    df_day['open']=np.zeros(len(df_day)).astype('float')\n",
    "    df_day['long-close']=np.zeros(len(df_day)).astype('float')\n",
    "    df_day['short-close']=np.zeros(len(df_day)).astype('float')\n",
    "    df_day['close']=np.zeros(len(df_day)).astype('float')\n",
    "    df_day['long-rst']=np.zeros(len(df_day)).astype('float')\n",
    "    df_day['short-rst']=np.zeros(len(df_day)).astype('float')\n",
    "    df_day['long-acc']=np.zeros(len(df_day)).astype('float')\n",
    "    df_day['short-acc']=np.zeros(len(df_day)).astype('float')\n",
    "    \n",
    "    pt_end = df_day[df_day['range-trail'] != 0].index[-1]\n",
    "    pt_ini = df_day[df_day['range-trail'] != 0].index[0]\n",
    "    \n",
    "    pt_ini_date=df_es_02['date'][df_es_02[df_es_02['range-trail']!=0].index[0]].year*10000+ \\\n",
    "                df_es_02['date'][df_es_02[df_es_02['range-trail']!=0].index[0]].month*100+ \\\n",
    "                df_es_02['date'][df_es_02[df_es_02['range-trail']!=0].index[0]].day\n",
    "    \n",
    "    pt_end_date=df_es_02['date'][df_es_02[df_es_02['range-trail']!=0].index[-1]].year*10000+ \\\n",
    "                df_es_02['date'][df_es_02[df_es_02['range-trail']!=0].index[-1]].month*100+ \\\n",
    "                df_es_02['date'][df_es_02[df_es_02['range-trail']!=0].index[-1]].day\n",
    "    \n",
    "    pt_ini=locate_1st_day('D', pt_ini_date, df_int, 'datetime_EU')\n",
    "    pt_end=locate_1st_day('D', pt_end_date, df_int, 'datetime_EU')\n",
    "    \n",
    "    print (pt_ini, pt_ini_date, '-', pt_end, pt_end_date)\n",
    "    \n",
    "    testing=pd.DataFrame(columns=['datetime_EU', 'open', 'max', 'min', 'close', 'long-stop', 'short-stop', 'long-exit', 'short-exit',\n",
    "                                  'long-operation', 'short-operation', 'max-day', 'min-day', 'range-trail'])\n",
    "    testing['open']= np.zeros(pt_end-pt_ini+1).astype('float')\n",
    "    testing['max']= np.zeros(pt_end-pt_ini+1).astype('float')\n",
    "    testing['min']= np.zeros(pt_end-pt_ini+1).astype('float')\n",
    "    testing['close']= np.zeros(pt_end-pt_ini+1).astype('float')\n",
    "    testing['long-stop']= np.zeros(pt_end-pt_ini+1).astype('float')\n",
    "    testing['short-stop']= np.zeros(pt_end-pt_ini+1).astype('float')\n",
    "    testing['long-exit']= np.zeros(pt_end-pt_ini+1).astype('float')\n",
    "    testing['short-exit']= np.zeros(pt_end-pt_ini+1).astype('float')\n",
    "    testing['long-operation']= np.zeros(pt_end-pt_ini+1).astype('float')\n",
    "    testing['short-operation']= np.zeros(pt_end-pt_ini+1).astype('float')\n",
    "    testing['max-day']= np.zeros(pt_end-pt_ini+1).astype('float')\n",
    "    testing['min-day']= np.zeros(pt_end-pt_ini+1).astype('float')\n",
    "    testing['range-trail']= np.zeros(pt_end-pt_ini+1).astype('float')\n",
    "    \n",
    "    # Define variables to use\n",
    "    operation = 0                       # (1 in market, 0 out market)\n",
    "    entry= 0.0\n",
    "    long_stop = 0.0\n",
    "    short_stop = 0.0\n",
    "    long_exit = 0.0\n",
    "    short_exit = 0.0\n",
    "    long_operation = 0\n",
    "    short_operation = 0\n",
    "    maximum = 0.0\n",
    "    minimum = 0.0\n",
    "    market_exit = 0.0\n",
    "    \n",
    "    hour_ini=int(timetable_ini[0:2])                                  # initial values\n",
    "    minu_ini=int(timetable_ini[3:])\n",
    "    hour_end=int(timetable_end[0:2])\n",
    "    minu_end=int(timetable_end[3:])\n",
    "    tmtb_ini = hour_ini * 100 + minu_ini                              # integer value\n",
    "    tmtb_end = hour_end * 100 + minu_end                              # integer value\n",
    "    \n",
    "    \n",
    "    my_int_date_ant=0                                                  # define my date ant\n",
    "    \n",
    "    my_long_acc = 0.0                                                 # long result accumulator\n",
    "    my_short_acc = 0.0                                               # short result accumulator\n",
    "    j=0                                                                # counter for testing\n",
    "    \n",
    "    for ind in range(pt_ini, pt_end+1):                                  # the main loop\n",
    "        \n",
    "        my_int_date=df_int['datetime_EU'][ind].year * 10000 + df_int['datetime_EU'][ind].month * 100 + df_int['datetime_EU'][ind].day   # the day\n",
    "        \n",
    "        if (my_int_date > my_int_date_ant):                              # This is a new day \n",
    "            my_int_date_ant = my_int_date\n",
    "            \n",
    "            my_loc = locate_1st_day('D', my_int_date, df_day, 'date')      # locate the day in the df_day to take the range-trail\n",
    "            range_trail = df_day['range-trail'][my_loc]                    # take the range-trail\n",
    "            \n",
    "        \n",
    "        my_int_time=df_int['datetime_EU'][ind].hour * 100 + df_int['datetime_EU'][ind].minute     # the time\n",
    "        \n",
    "        # checking the bar time is >= than start time of timetable and < than end time of timetable  ==>> operation in market\n",
    "        \n",
    "        if ((my_int_time >= tmtb_ini) & (my_int_time < tmtb_end)):\n",
    "            \n",
    "            if ((my_int_time == tmtb_ini) & (operation == 0)):                 # The moment to start operation                    \n",
    "                entry=df_int['open'][ind]\n",
    "                long_stop = entry - range_trail\n",
    "                short_stop = entry + range_trail\n",
    "                long_exit = df_int['close'][ind]\n",
    "                short_exit = df_int['close'][ind]\n",
    "                long_operation = 1\n",
    "                short_operation = 1\n",
    "                maximum = df_int['max'][ind]\n",
    "                minimum = df_int['min'][ind]\n",
    "                operation = 1\n",
    "            \n",
    "            if (operation == 1):\n",
    "                if (short_operation == 1):\n",
    "                    short_exit=df_int['close'][ind]\n",
    "                if (long_operation == 1):\n",
    "                    long_exit=df_int['close'][ind]\n",
    "                if ((df_int['max'][ind] > short_stop) & (short_operation==1)):        # if the price overcome the short_stop (up)\n",
    "                    short_exit = short_stop\n",
    "                    short_operation = 0\n",
    "                if ((df_int['min'][ind] < long_stop) & (long_operation == 1)):         # if the price overcome the long_stop (down)\n",
    "                    long_exit = long_stop\n",
    "                    long_operation = 0\n",
    "                if ((long_stop < df_int['max'][ind] - range_trail) & (long_operation==1)): # up long stop\n",
    "                    long_stop = df_int['max'][ind] - range_trail\n",
    "                if ((short_stop > df_int['min'][ind] + range_trail) & (short_operation==1)): # down short stop\n",
    "                    short_stop = df_int['min'][ind] + range_trail\n",
    "                if ((my_int_time == tmtb_end) & (long_operation == 1)):                     # long operation end because finish timetable\n",
    "                    long_operation =0\n",
    "                if ((my_int_time == tmtb_end) & (short_operation == 1)):                     # short operation end because finish timetable\n",
    "                    short_operation =0\n",
    "                if (df_int['max'][ind] > maximum):                                    # update maximum if it is the case\n",
    "                    maximum = df_int['max'][ind]\n",
    "                if (df_int['min'][ind] < minimum):                                    # update minimum if it is the case\n",
    "                    minimum = df_int['min'][ind]\n",
    "                market_exit = df_int['close'][ind]\n",
    "\n",
    "        elif ((my_int_time == tmtb_end) & (operation == 1)):                            # timetable finish and save the result\n",
    "            df_day['open'][my_loc]=entry\n",
    "            df_day['long-close'][my_loc]=long_exit\n",
    "            df_day['short-close'][my_loc]=short_exit\n",
    "            df_day['close'][my_loc]=market_exit\n",
    "            df_day['long-rst'][my_loc]=long_exit-entry\n",
    "            df_day['short-rst'][my_loc]=entry-short_exit\n",
    "            my_long_acc = my_long_acc + long_exit - entry\n",
    "            df_day['long-acc'][my_loc]= my_long_acc\n",
    "            my_short_acc = my_short_acc + entry - short_exit\n",
    "            df_day['short-acc'][my_loc]= my_short_acc\n",
    "            \n",
    "            operation = 0                                                             # Re-init variables\n",
    "            entry= 0.0\n",
    "            long_stop = 0.0\n",
    "            short_stop = 0.0\n",
    "            long_exit = 0.0\n",
    "            short_exit = 0.0\n",
    "            long_operation = 0\n",
    "            short_operation = 0\n",
    "            maximum = 0.0\n",
    "            minimum = 0.0\n",
    "            market_exit = 0.0\n",
    "\n",
    "        # Save tracking information to check the function works only for debuging and testing\n",
    "        j+=1\n",
    "        testing['datetime_EU'][j]=df_int['datetime_EU'][ind]\n",
    "        testing['open'][j]= df_int['open'][ind]\n",
    "        testing['max'][j]= df_int['max'][ind]\n",
    "        testing['min'][j]= df_int['min'][ind]\n",
    "        testing['close'][j]= df_int['close'][ind]\n",
    "        testing['long-stop'][j]= long_stop\n",
    "        testing['short-stop'][j]= short_stop\n",
    "        testing['long-exit'][j]= long_exit\n",
    "        testing['short-exit'][j]= short_exit\n",
    "        testing['long-operation'][j]= long_operation\n",
    "        testing['short-operation'][j]= short_operation\n",
    "        testing['max-day'][j]= maximum\n",
    "        testing['min-day'][j]= minimum\n",
    "        testing['range-trail'][j]= range_trail\n",
    "\n",
    "    return testing, df_day"
   ]
  },
  {
   "cell_type": "code",
   "execution_count": 13,
   "metadata": {},
   "outputs": [
    {
     "name": "stdout",
     "output_type": "stream",
     "text": [
      "104127 20140103 - 241683 20190906\n"
     ]
    }
   ],
   "source": [
    "my_test, my_day=market_operation (df_es_00, df_es_02, '09:00', '18:30')"
   ]
  },
  {
   "cell_type": "code",
   "execution_count": 17,
   "metadata": {},
   "outputs": [],
   "source": [
    "my_test.to_csv('../Data/ES_test03.csv',index=False)"
   ]
  },
  {
   "cell_type": "code",
   "execution_count": 16,
   "metadata": {},
   "outputs": [],
   "source": [
    "my_day.to_csv('../Data/ES_03.csv',index=False)\n",
    "\n"
   ]
  },
  {
   "cell_type": "code",
   "execution_count": 1,
   "metadata": {},
   "outputs": [
    {
     "ename": "NameError",
     "evalue": "name 'df_es_02' is not defined",
     "output_type": "error",
     "traceback": [
      "\u001b[0;31m---------------------------------------------------------------------------\u001b[0m",
      "\u001b[0;31mNameError\u001b[0m                                 Traceback (most recent call last)",
      "\u001b[0;32m<ipython-input-1-8ac739bb23bd>\u001b[0m in \u001b[0;36m<module>\u001b[0;34m\u001b[0m\n\u001b[0;32m----> 1\u001b[0;31m \u001b[0mdf_es_02\u001b[0m\u001b[0;34m\u001b[0m\u001b[0;34m\u001b[0m\u001b[0m\n\u001b[0m",
      "\u001b[0;31mNameError\u001b[0m: name 'df_es_02' is not defined"
     ]
    }
   ],
   "source": [
    "df_es_02"
   ]
  },
  {
   "cell_type": "code",
   "execution_count": null,
   "metadata": {},
   "outputs": [],
   "source": []
  },
  {
   "cell_type": "code",
   "execution_count": 10,
   "metadata": {},
   "outputs": [
    {
     "data": {
      "text/plain": [
       "0.8"
      ]
     },
     "execution_count": 10,
     "metadata": {},
     "output_type": "execute_result"
    }
   ],
   "source": [
    "number=0.84\n",
    "rnd=round(number, 1)\n",
    "rnd"
   ]
  }
 ],
 "metadata": {
  "kernelspec": {
   "display_name": "Python [conda env:ironhack_env]",
   "language": "python",
   "name": "conda-env-ironhack_env-py"
  },
  "language_info": {
   "codemirror_mode": {
    "name": "ipython",
    "version": 3
   },
   "file_extension": ".py",
   "mimetype": "text/x-python",
   "name": "python",
   "nbconvert_exporter": "python",
   "pygments_lexer": "ipython3",
   "version": "3.7.7"
  }
 },
 "nbformat": 4,
 "nbformat_minor": 4
}
