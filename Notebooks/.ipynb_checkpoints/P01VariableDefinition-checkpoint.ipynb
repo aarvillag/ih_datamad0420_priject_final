{
 "cells": [
  {
   "cell_type": "code",
   "execution_count": null,
   "metadata": {},
   "outputs": [],
   "source": [
    "# Notebook to define the main variables to use\n",
    "\n",
    "# Timetable to operate= (01:00 to 08:00, 09:00 to 18:00, 15:00 to 22:00)\n",
    "TIME_IN='09:00'\n",
    "TIME_OUT='18:00'\n",
    "\n",
    "# Range-Trail= is the average daily range (max-min) of last 4 years adjusted with a 70%\n",
    "YEARS_TO_CALCULATE_RANGE=4       # (5, 4, 3)\n",
    "PERCENTAGE_ADJUSTMENT=0.70       # (0.70, 0.75)\n",
    "# We have to calculate the range-trail for the first year and then update every year.\n",
    "YEARS_TO_UPDATE_RANGE=1\n",
    "# We create a dataframe with the daily range-trail to use.\n",
    "\n",
    "# Years to apply this backtest\n",
    "YEAR_IN=2015\n",
    "YEAR_OUT=2020\n",
    "\n",
    "# System to follow the market\n",
    "SYSTEM_MARKET='replicate_day_before'     (objective_limit)\n"
   ]
  }
 ],
 "metadata": {
  "kernelspec": {
   "display_name": "Python [conda env:ironhack_env]",
   "language": "python",
   "name": "conda-env-ironhack_env-py"
  },
  "language_info": {
   "codemirror_mode": {
    "name": "ipython",
    "version": 3
   },
   "file_extension": ".py",
   "mimetype": "text/x-python",
   "name": "python",
   "nbconvert_exporter": "python",
   "pygments_lexer": "ipython3",
   "version": "3.7.7"
  }
 },
 "nbformat": 4,
 "nbformat_minor": 4
}
