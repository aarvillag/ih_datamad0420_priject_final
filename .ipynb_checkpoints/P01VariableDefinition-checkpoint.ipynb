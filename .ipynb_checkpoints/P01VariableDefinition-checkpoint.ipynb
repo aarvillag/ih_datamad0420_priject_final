{
 "cells": [
  {
   "cell_type": "code",
   "execution_count": null,
   "metadata": {},
   "outputs": [],
   "source": [
    "# Notebook to define the main variables to use\n",
    "\n",
    "# Timetable to operate= (01:00 to 08:00, 09:00 to 18:00, 15:00 to 22:00)\n",
    "time_in='09:00'\n",
    "time_out='18:00'\n",
    "\n",
    "# Range-Trail= is the average daily range (max-min) of last 4 years adjusted with a 70%\n",
    "years_to_calculate_range=4       # (5, 4, 3)\n",
    "percentage_adjustment=0.70       # (0.70, 0.75)\n",
    "# We have to calculate the range-trail for the first year and then update every year.\n",
    "years_to_update=1\n",
    "# We create a dataframe with the daily range-trail to use.\n",
    "\n",
    "# Years to apply this backtest\n",
    "year_in=2015\n",
    "year_out=2020\n",
    "\n",
    "# System to follow the market\n",
    "system_market='replicate_day_before'     (objective_limit)\n"
   ]
  }
 ],
 "metadata": {
  "kernelspec": {
   "display_name": "Python [conda env:ironhack_env]",
   "language": "python",
   "name": "conda-env-ironhack_env-py"
  },
  "language_info": {
   "codemirror_mode": {
    "name": "ipython",
    "version": 3
   },
   "file_extension": ".py",
   "mimetype": "text/x-python",
   "name": "python",
   "nbconvert_exporter": "python",
   "pygments_lexer": "ipython3",
   "version": "3.7.7"
  }
 },
 "nbformat": 4,
 "nbformat_minor": 4
}
